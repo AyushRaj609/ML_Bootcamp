{
 "cells": [
  {
   "cell_type": "code",
   "execution_count": 1,
   "id": "6992d215",
   "metadata": {},
   "outputs": [
    {
     "name": "stdout",
     "output_type": "stream",
     "text": [
      "Hello World\n"
     ]
    }
   ],
   "source": [
    "print(\"Hello World\")"
   ]
  },
  {
   "cell_type": "code",
   "execution_count": 2,
   "id": "93de9f34",
   "metadata": {},
   "outputs": [
    {
     "data": {
      "text/plain": [
       "2"
      ]
     },
     "execution_count": 2,
     "metadata": {},
     "output_type": "execute_result"
    }
   ],
   "source": [
    "1+1"
   ]
  },
  {
   "cell_type": "code",
   "execution_count": 3,
   "id": "446e68f6",
   "metadata": {},
   "outputs": [],
   "source": [
    " n=12"
   ]
  },
  {
   "cell_type": "code",
   "execution_count": 5,
   "id": "42660645",
   "metadata": {},
   "outputs": [],
   "source": [
    "name=\"Ayu\""
   ]
  },
  {
   "cell_type": "code",
   "execution_count": 6,
   "id": "9bf24a24",
   "metadata": {},
   "outputs": [
    {
     "name": "stdout",
     "output_type": "stream",
     "text": [
      "My name is Ayu and number is 12.\n"
     ]
    }
   ],
   "source": [
    "print(f\"My name is {name} and number is {n}.\")"
   ]
  },
  {
   "cell_type": "code",
   "execution_count": 25,
   "id": "75c2556c",
   "metadata": {},
   "outputs": [],
   "source": [
    "def times2(var):return var**2\n"
   ]
  },
  {
   "cell_type": "code",
   "execution_count": 19,
   "id": "156cef9b",
   "metadata": {},
   "outputs": [
    {
     "name": "stdout",
     "output_type": "stream",
     "text": [
      "36\n"
     ]
    }
   ],
   "source": [
    "print(times2(6))"
   ]
  },
  {
   "cell_type": "code",
   "execution_count": 20,
   "id": "4e3ee61a",
   "metadata": {},
   "outputs": [],
   "source": [
    "#map"
   ]
  },
  {
   "cell_type": "code",
   "execution_count": 21,
   "id": "dd1a67fe",
   "metadata": {},
   "outputs": [],
   "source": [
    "seq=[1,2,3,4,5,6]"
   ]
  },
  {
   "cell_type": "code",
   "execution_count": 26,
   "id": "c869f55c",
   "metadata": {},
   "outputs": [
    {
     "data": {
      "text/plain": [
       "[1, 4, 9, 16, 25, 36]"
      ]
     },
     "execution_count": 26,
     "metadata": {},
     "output_type": "execute_result"
    }
   ],
   "source": [
    "list(map(times2,seq))"
   ]
  },
  {
   "cell_type": "code",
   "execution_count": 27,
   "id": "1d8ebee2",
   "metadata": {},
   "outputs": [],
   "source": [
    "#in stead of using def to define a function we can use lamda expression"
   ]
  },
  {
   "cell_type": "code",
   "execution_count": 28,
   "id": "89646936",
   "metadata": {},
   "outputs": [
    {
     "data": {
      "text/plain": [
       "<function __main__.<lambda>(var)>"
      ]
     },
     "execution_count": 28,
     "metadata": {},
     "output_type": "execute_result"
    }
   ],
   "source": [
    "lambda var:var*2"
   ]
  },
  {
   "cell_type": "code",
   "execution_count": 30,
   "id": "252c999f",
   "metadata": {},
   "outputs": [
    {
     "data": {
      "text/plain": [
       "[3, 6, 9, 12, 15, 18]"
      ]
     },
     "execution_count": 30,
     "metadata": {},
     "output_type": "execute_result"
    }
   ],
   "source": [
    "list(map(lambda var:var*3, seq))"
   ]
  },
  {
   "cell_type": "code",
   "execution_count": 32,
   "id": "6465c96c",
   "metadata": {},
   "outputs": [
    {
     "data": {
      "text/plain": [
       "[6, 12, 18]"
      ]
     },
     "execution_count": 32,
     "metadata": {},
     "output_type": "execute_result"
    }
   ],
   "source": [
    "list(filter(lambda num:num%2==0,map(lambda var:var*3,seq)))"
   ]
  },
  {
   "cell_type": "code",
   "execution_count": null,
   "id": "a6ec5d21",
   "metadata": {},
   "outputs": [],
   "source": []
  }
 ],
 "metadata": {
  "kernelspec": {
   "display_name": "Python 3 (ipykernel)",
   "language": "python",
   "name": "python3"
  },
  "language_info": {
   "codemirror_mode": {
    "name": "ipython",
    "version": 3
   },
   "file_extension": ".py",
   "mimetype": "text/x-python",
   "name": "python",
   "nbconvert_exporter": "python",
   "pygments_lexer": "ipython3",
   "version": "3.11.4"
  }
 },
 "nbformat": 4,
 "nbformat_minor": 5
}
